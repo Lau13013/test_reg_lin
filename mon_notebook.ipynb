{
"cells": [
    {
   "cell_type": "markdown",
    "source": [
    <h1>Titre</h1>
   ]
  }
]
}
