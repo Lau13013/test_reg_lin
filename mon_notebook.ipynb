 "source": [
    "# Introduction aux notebooks Jupyter\n",
    "\n",
    "Ce tutoriel durera 60 minutes, le mercredi 05 février, à la [conférence Didapro #8](https://www.didapro.org/8/programme/#atelier), à Lille.\n",
    "\n",
    "1. Suivez la présentation sur votre écran : `$ regarder_ecran nom_ma_machine`,\n",
    "2. Ensuite il y aura une activité *à faire par vous même*,\n",
    "3. Nous terminerons par des exemples de ma propre utilisation de Jupyter et des démonstrations.\n",
    "\n",
    "\n",
    "> Par Lilian Besson, de l'ENS de Rennes (département Informatique).  \n",
    "> Liens : [`perso.crans.org/besson`](https://perso.crans.org/besson/) & [`GitHub.com/Naereen`](https://GitHub.com/Naereen)"
   ]
  },
